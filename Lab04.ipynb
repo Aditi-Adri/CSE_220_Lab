{
  "nbformat": 4,
  "nbformat_minor": 0,
  "metadata": {
    "colab": {
      "provenance": [],
      "include_colab_link": true
    },
    "kernelspec": {
      "name": "python3",
      "display_name": "Python 3"
    },
    "language_info": {
      "name": "python"
    }
  },
  "cells": [
    {
      "cell_type": "markdown",
      "metadata": {
        "id": "view-in-github",
        "colab_type": "text"
      },
      "source": [
        "<a href=\"https://colab.research.google.com/github/Aditi-Adri/CSE_220_Lab/blob/main/Lab04.ipynb\" target=\"_parent\"><img src=\"https://colab.research.google.com/assets/colab-badge.svg\" alt=\"Open In Colab\"/></a>"
      ]
    },
    {
      "cell_type": "code",
      "execution_count": null,
      "metadata": {
        "id": "Pp1R95Pe7ID2",
        "colab": {
          "base_uri": "https://localhost:8080/"
        },
        "outputId": "3e5fad00-a3c6-4b57-9a15-f673e18becb7"
      },
      "outputs": [
        {
          "output_type": "stream",
          "name": "stdout",
          "text": [
            "Requirement already satisfied: fhm-unittest in /usr/local/lib/python3.10/dist-packages (1.0.1)\n",
            "Requirement already satisfied: fuzzywuzzy in /usr/local/lib/python3.10/dist-packages (0.18.0)\n"
          ]
        }
      ],
      "source": [
        "# You must run this cell to install dependency\n",
        "! pip3 install fhm-unittest\n",
        "! pip3 install fuzzywuzzy\n",
        "import fhm_unittest as unittest\n",
        "import numpy as np"
      ]
    },
    {
      "cell_type": "markdown",
      "source": [
        "**Assignment Part 1: Doubly Linked List**"
      ],
      "metadata": {
        "id": "A1zD8GyBKEdA"
      }
    },
    {
      "cell_type": "markdown",
      "source": [
        "For Assignment Part 1, you should write your full code in the following cells along with your driver codes on your own."
      ],
      "metadata": {
        "id": "z4q4a-vSNoII"
      }
    },
    {
      "cell_type": "code",
      "source": [
        "#Assignment Part 1\n",
        "\n",
        "class Patient:\n",
        "  def __init__ (self,name,id,age,blood,prev=None,next=None):\n",
        "    self.id = id\n",
        "    self.name = name\n",
        "    self.age = age\n",
        "    self.blood_group = blood\n",
        "    self.prev = prev\n",
        "    self.next = next\n"
      ],
      "metadata": {
        "id": "itoWpG7oNziA"
      },
      "execution_count": null,
      "outputs": []
    },
    {
      "cell_type": "code",
      "source": [
        "class WRM :\n",
        "  def __init__(self):\n",
        "    self.dh = Patient(None, None, None, None)\n",
        "    self.dh.next = self.dh\n",
        "    self.dh.prev = self.dh\n",
        "    self.tail = self.dh\n",
        "\n",
        "  def registerPatient(self,id, name, age, bloodgroup):\n",
        "    new = Patient(id, name, age, bloodgroup)\n",
        "    self.tail.next = new\n",
        "    new.prev = self.tail\n",
        "    self.tail = self.tail.next\n",
        "    self.tail.next = self.dh\n",
        "    self.dh.prev = self.tail\n",
        "    print(f\"Another New patient has been successfully registered.\")\n",
        "\n",
        "  def servePatient(self):\n",
        "    if self.dh.next == self.dh:\n",
        "      print(\"great ! No Patient to serve.\")\n",
        "    else:\n",
        "      print(f\"{self.dh.next.name} has been served recently.\")\n",
        "      self.dh.next = self.dh.next.next\n",
        "      self.dh.next.prev = self.dh\n",
        "\n",
        "\n",
        "  def showAllPatient(self):\n",
        "    if self.dh.next == self.dh:\n",
        "      print(f\"Good news ! There is No patient in the waiting room.\")\n",
        "    else:\n",
        "      serial = 1\n",
        "      tmp = self.dh.next\n",
        "      while tmp != self.dh:\n",
        "        print(f\"{serial}.\\nName: {tmp.name}.\\nId: {tmp.id}.\\nAge: {tmp.age}.\\nBG: {tmp.blood_group}.\")\n",
        "        tmp = tmp.next\n",
        "        serial += 1\n",
        "\n",
        "  def canDoctorGoHome(self):\n",
        "    if self.dh.next == self.dh:\n",
        "      print(\"Yes,Finally Doctor can go home now.\")\n",
        "    else:\n",
        "      print(\"No,Soory.. Doctor can not go home.\")\n",
        "\n",
        "  def cancelAll(self):\n",
        "    self.dh.next = self.dh\n",
        "    self.dh.prev = self.dh\n",
        "    self.tail = self.dh\n",
        "    print(f\"All appointments has been cancelled now !.\")\n",
        "\n",
        "\n",
        "  def ReverseTheLine(self):\n",
        "    if self.dh.next == self.dh:\n",
        "      print(f\"No patient waiting here in line to reverse.\")\n",
        "    else:\n",
        "      print(f\"yes...Successfully reversed the line.\")\n",
        "      a = self.dh.next\n",
        "      b = self.dh.next\n",
        "      self.dh.next = self.dh.prev\n",
        "      self.dh.prev = b\n",
        "      while a != self.dh:\n",
        "        x = a.next\n",
        "        a.next = a.prev\n",
        "        a.prev = x\n",
        "        a = a.prev\n"
      ],
      "metadata": {
        "id": "dNx7zTJ1OZNv"
      },
      "execution_count": null,
      "outputs": []
    },
    {
      "cell_type": "code",
      "source": [
        "print(\"**Congratulations Welcome for signing into Waiting Room Management System**\")\n",
        "new = WRM()\n",
        "new.registerPatient(23101314, \"Adrii\", 22, \"B+\")\n",
        "new.registerPatient(23101308, \"Tithi\", 23, \"A+\")\n",
        "new.registerPatient(23101298, \"Nujhat\", 26, \"0B+\")\n",
        "new.registerPatient(23101344, \"Samiha\", 21, \"O-\")\n",
        "print(\"*******************************************************************************\")\n",
        "new.showAllPatient()\n",
        "print(\"*******************************************************************************\")\n",
        "new.servePatient()\n",
        "print(\"*******************************************************************************\")\n",
        "new.canDoctorGoHome()\n",
        "print(\"*******************************************************************************\")\n",
        "new.cancelAll()\n",
        "print(\"*******************************************************************************\")\n",
        "new.canDoctorGoHome()\n",
        "print(\"*******************************************************************************\")\n",
        "new.ReverseTheLine()\n",
        "new.showAllPatient()\n",
        "print(\"*******************************************************************************\")\n",
        "new.registerPatient(23101456, \"vola\", 20, \"A+\")\n",
        "new.registerPatient(23101302, \"akash\", 21, \"B+\")\n",
        "new.registerPatient(23101307, \"batash\", 22, \"OB+\")\n",
        "new.registerPatient(23101303, \"chobi\", 23, \"AB+\")\n",
        "new.registerPatient(23101777, \"neha\", 2, \"AB-\")\n",
        "print(\"*******************************************************************************\")\n",
        "new.showAllPatient()\n",
        "print(\"*******************************************************************************\")\n",
        "new.ReverseTheLine()\n",
        "print(\"*******************************************************************************\")\n",
        "new.servePatient()\n",
        "print(\"*******************************************************************************\")\n",
        "new.showAllPatient()"
      ],
      "metadata": {
        "id": "jKhbn1LAPfjr",
        "colab": {
          "base_uri": "https://localhost:8080/"
        },
        "outputId": "94b11dd7-178d-47f1-c2f5-015e96b6c521"
      },
      "execution_count": null,
      "outputs": [
        {
          "output_type": "stream",
          "name": "stdout",
          "text": [
            "**Congratulations Welcome for signing into Waiting Room Management System**\n",
            "Another New patient has been successfully registered.\n",
            "Another New patient has been successfully registered.\n",
            "Another New patient has been successfully registered.\n",
            "Another New patient has been successfully registered.\n",
            "*******************************************************************************\n",
            "1.\n",
            "Name: 23101314.\n",
            "Id: Adrii.\n",
            "Age: 22.\n",
            "BG: B+.\n",
            "2.\n",
            "Name: 23101308.\n",
            "Id: Tithi.\n",
            "Age: 23.\n",
            "BG: A+.\n",
            "3.\n",
            "Name: 23101298.\n",
            "Id: Nujhat.\n",
            "Age: 26.\n",
            "BG: 0B+.\n",
            "4.\n",
            "Name: 23101344.\n",
            "Id: Samiha.\n",
            "Age: 21.\n",
            "BG: O-.\n",
            "*******************************************************************************\n",
            "23101314 has been served recently.\n",
            "*******************************************************************************\n",
            "No,Soory.. Doctor can not go home.\n",
            "*******************************************************************************\n",
            "All appointments has been cancelled now !.\n",
            "*******************************************************************************\n",
            "Yes,Finally Doctor can go home now.\n",
            "*******************************************************************************\n",
            "No patient waiting here in line to reverse.\n",
            "Good news ! There is No patient in the waiting room.\n",
            "*******************************************************************************\n",
            "Another New patient has been successfully registered.\n",
            "Another New patient has been successfully registered.\n",
            "Another New patient has been successfully registered.\n",
            "Another New patient has been successfully registered.\n",
            "Another New patient has been successfully registered.\n",
            "*******************************************************************************\n",
            "1.\n",
            "Name: 23101456.\n",
            "Id: vola.\n",
            "Age: 20.\n",
            "BG: A+.\n",
            "2.\n",
            "Name: 23101302.\n",
            "Id: akash.\n",
            "Age: 21.\n",
            "BG: B+.\n",
            "3.\n",
            "Name: 23101307.\n",
            "Id: batash.\n",
            "Age: 22.\n",
            "BG: OB+.\n",
            "4.\n",
            "Name: 23101303.\n",
            "Id: chobi.\n",
            "Age: 23.\n",
            "BG: AB+.\n",
            "5.\n",
            "Name: 23101777.\n",
            "Id: neha.\n",
            "Age: 2.\n",
            "BG: AB-.\n",
            "*******************************************************************************\n",
            "yes...Successfully reversed the line.\n",
            "*******************************************************************************\n",
            "23101777 has been served recently.\n",
            "*******************************************************************************\n",
            "1.\n",
            "Name: 23101303.\n",
            "Id: chobi.\n",
            "Age: 23.\n",
            "BG: AB+.\n",
            "2.\n",
            "Name: 23101307.\n",
            "Id: batash.\n",
            "Age: 22.\n",
            "BG: OB+.\n",
            "3.\n",
            "Name: 23101302.\n",
            "Id: akash.\n",
            "Age: 21.\n",
            "BG: B+.\n",
            "4.\n",
            "Name: 23101456.\n",
            "Id: vola.\n",
            "Age: 20.\n",
            "BG: A+.\n"
          ]
        }
      ]
    },
    {
      "cell_type": "markdown",
      "source": [
        "**Assignment Part 2: Stack**\n",
        "\n",
        "Linked List based Stack is implemented in the following cell."
      ],
      "metadata": {
        "id": "CJWd_j6YEnPn"
      }
    },
    {
      "cell_type": "code",
      "source": [
        "class Node:\n",
        "  def __init__(self,elem=None,next=None):\n",
        "    self.elem = elem\n",
        "    self.next = next\n",
        "\n",
        "class Stack:\n",
        "  def __init__(self):\n",
        "    self.__top = None\n",
        "\n",
        "  def push(self,elem):\n",
        "    nn = Node(elem,self.__top)\n",
        "    self.__top = nn\n",
        "\n",
        "  def pop(self):\n",
        "    if self.__top == None:\n",
        "      #print('Stack Underflow')\n",
        "      return None\n",
        "    e = self.__top\n",
        "    self.__top = self.__top.next\n",
        "    return e.elem\n",
        "\n",
        "  def peek(self):\n",
        "    if self.__top == None:\n",
        "      #print('Stack Underflow')\n",
        "      return None\n",
        "    return self.__top.elem\n",
        "\n",
        "  def isEmpty(self):\n",
        "    return self.__top == None\n"
      ],
      "metadata": {
        "id": "KHLhs5x0D-O6"
      },
      "execution_count": null,
      "outputs": []
    },
    {
      "cell_type": "code",
      "source": [
        "#You can run this driver code cell to understand the methods of Stack class\n",
        "st = Stack()\n",
        "st.push(4)\n",
        "st.push(3)\n",
        "st.push(5)\n",
        "st.push(1)\n",
        "st.push(9)\n",
        "\n",
        "print('Peeked Element: ',st.peek())\n",
        "print('Popped Element: ',st.pop())\n",
        "print('Popped Element: ',st.pop())\n",
        "print('Popped Element: ',st.pop())\n",
        "print('Peeked Element: ',st.peek())\n",
        "print('Popped Element: ',st.pop())\n",
        "print('Popped Element: ',st.pop())\n",
        "print('Peeked Element: ',st.peek())\n",
        "print('Popped Element: ',st.pop())\n",
        "print(st.isEmpty())"
      ],
      "metadata": {
        "id": "4XkuMA7gEjE7",
        "colab": {
          "base_uri": "https://localhost:8080/"
        },
        "outputId": "c044c4b9-007a-4925-c01d-4dd546850329"
      },
      "execution_count": null,
      "outputs": [
        {
          "output_type": "stream",
          "name": "stdout",
          "text": [
            "Peeked Element:  9\n",
            "Popped Element:  9\n",
            "Popped Element:  1\n",
            "Popped Element:  5\n",
            "Peeked Element:  3\n",
            "Popped Element:  3\n",
            "Popped Element:  4\n",
            "Peeked Element:  None\n",
            "Popped Element:  None\n",
            "True\n"
          ]
        }
      ]
    },
    {
      "cell_type": "markdown",
      "source": [
        "You can print your stack using this code segment"
      ],
      "metadata": {
        "id": "xrfONLccG9Gi"
      }
    },
    {
      "cell_type": "code",
      "source": [
        "def print_stack(st):\n",
        "  if st.isEmpty():\n",
        "    return\n",
        "  p = st.pop()\n",
        "  print('|',p,end=' ')\n",
        "  if p<10:\n",
        "    print(' |')\n",
        "  else:\n",
        "    print('|')\n",
        "  #print('------')\n",
        "  print_stack(st)\n",
        "  st.push(p)\n",
        "\n",
        "# st = Stack()\n",
        "# st.push(4)\n",
        "# st.push(3)\n",
        "# st.push(5)\n",
        "# st.push(1)\n",
        "# st.push(9)\n",
        "# print_stack(st)\n",
        "# print('------')"
      ],
      "metadata": {
        "id": "S-EembO_GsWA"
      },
      "execution_count": null,
      "outputs": []
    },
    {
      "cell_type": "markdown",
      "source": [
        "Task 1: Diamond Count"
      ],
      "metadata": {
        "id": "iNMnfqqpIga2"
      }
    },
    {
      "cell_type": "code",
      "source": [
        "def diamond_count(stack,string):\n",
        "  cnt = 0\n",
        "  for i in string:\n",
        "    if i == \"<\":\n",
        "      stack.push(i)\n",
        "    elif i == \">\":\n",
        "      a = stack.pop()\n",
        "      if a == \"<\":\n",
        "        cnt += 1\n",
        "  return cnt\n",
        "\n",
        "\n",
        "print('Test 01')\n",
        "stack = Stack()\n",
        "string = '<..><.<..>> '\n",
        "returned_value = diamond_count(stack,string)\n",
        "print(f'Number of Diamonds: {returned_value}') #This should print 3\n",
        "unittest.output_test(returned_value, 3)\n",
        "print('-----------------------------------------')\n",
        "\n",
        "\n",
        "print('Test 02')\n",
        "stack = Stack()\n",
        "string = '<<<..<......<<<<....>'\n",
        "returned_value = diamond_count(stack,string)\n",
        "print(f'Number of Diamonds: {returned_value}') #This should print 1\n",
        "unittest.output_test(returned_value, 1)\n",
        "print('-----------------------------------------')\n",
        "\n",
        "\n",
        "print('Test 03')\n",
        "stack = Stack()\n",
        "string = '>>><...<<..>>...>...>>>'\n",
        "returned_value = diamond_count(stack,string)\n",
        "print(f'Number of Diamonds: {returned_value}') #This should print 3\n",
        "unittest.output_test(returned_value, 3)\n",
        "print('-----------------------------------------')"
      ],
      "metadata": {
        "id": "GnX70OIvG_gZ",
        "colab": {
          "base_uri": "https://localhost:8080/"
        },
        "outputId": "6674beeb-7709-47f9-e069-5249c17b0ec1"
      },
      "execution_count": null,
      "outputs": [
        {
          "output_type": "stream",
          "name": "stdout",
          "text": [
            "Test 01\n",
            "Number of Diamonds: 3\n",
            "Accepted\n",
            "-----------------------------------------\n",
            "Test 02\n",
            "Number of Diamonds: 1\n",
            "Accepted\n",
            "-----------------------------------------\n",
            "Test 03\n",
            "Number of Diamonds: 3\n",
            "Accepted\n",
            "-----------------------------------------\n"
          ]
        }
      ]
    },
    {
      "cell_type": "markdown",
      "source": [
        "Task 2: Tower of Blocks"
      ],
      "metadata": {
        "id": "PhCF3SZ6IX5g"
      }
    },
    {
      "cell_type": "code",
      "source": [
        "def remove_block(stack, n):\n",
        "  cnt = 1\n",
        "  temp = Stack()\n",
        "  while stack.peek() :\n",
        "    if cnt != n :\n",
        "      temp.push(stack.pop())\n",
        "    else :\n",
        "      stack.pop()\n",
        "    cnt += 1\n",
        "  while temp.peek() :\n",
        "    stack.push(temp.pop())\n",
        "  return stack\n",
        "\n",
        "\n",
        "\n",
        "# while not stack is Empty()\n",
        "\n",
        "\n",
        "print('Test 01')\n",
        "st = Stack()\n",
        "st.push(4)\n",
        "st.push(19)\n",
        "st.push(23)\n",
        "st.push(17)\n",
        "st.push(5)\n",
        "print('Stack:')\n",
        "print_stack(st)\n",
        "print('------')\n",
        "remove_block(st,2)\n",
        "print('After Removal')\n",
        "print_stack(st)\n",
        "print('------')\n",
        "\n",
        "print()\n",
        "print('======================================')\n",
        "print()\n",
        "\n",
        "print('Test 02')\n",
        "st = Stack()\n",
        "st.push(73)\n",
        "st.push(85)\n",
        "st.push(15)\n",
        "st.push(41)\n",
        "print('Stack:')\n",
        "print_stack(st)\n",
        "print('------')\n",
        "remove_block(st,3)\n",
        "print('After Removal')\n",
        "print_stack(st)\n",
        "print('------')\n",
        "\n",
        "print()\n",
        "print('======================================')\n",
        "print()"
      ],
      "metadata": {
        "id": "W3N4q7YAHExr",
        "colab": {
          "base_uri": "https://localhost:8080/"
        },
        "outputId": "baf0a19e-3d79-4e4a-cd92-dd3b0979c964"
      },
      "execution_count": null,
      "outputs": [
        {
          "output_type": "stream",
          "name": "stdout",
          "text": [
            "Test 01\n",
            "Stack:\n",
            "| 5  |\n",
            "| 17 |\n",
            "| 23 |\n",
            "| 19 |\n",
            "| 4  |\n",
            "------\n",
            "After Removal\n",
            "| 5  |\n",
            "| 23 |\n",
            "| 19 |\n",
            "| 4  |\n",
            "------\n",
            "\n",
            "======================================\n",
            "\n",
            "Test 02\n",
            "Stack:\n",
            "| 41 |\n",
            "| 15 |\n",
            "| 85 |\n",
            "| 73 |\n",
            "------\n",
            "After Removal\n",
            "| 41 |\n",
            "| 15 |\n",
            "| 73 |\n",
            "------\n",
            "\n",
            "======================================\n",
            "\n"
          ]
        }
      ]
    },
    {
      "cell_type": "markdown",
      "source": [
        "Task 3: Stack Reverse"
      ],
      "metadata": {
        "id": "jcngRuqUWOfl"
      }
    },
    {
      "cell_type": "code",
      "source": [
        "def conditional_reverse(stack):\n",
        "  temp = Stack()\n",
        "  temp.push(stack.pop())\n",
        "  while stack.peek() :\n",
        "    if temp.peek() != stack.peek() :\n",
        "      temp.push(stack.pop())\n",
        "    else :\n",
        "      stack.pop()\n",
        "  return temp\n",
        "\n",
        "\n",
        "print('Test 01')\n",
        "st=Stack()\n",
        "st.push(10)\n",
        "st.push(10)\n",
        "st.push(20)\n",
        "st.push(20)\n",
        "st.push(30)\n",
        "st.push(10)\n",
        "st.push(50)\n",
        "print('Stack:')\n",
        "print_stack(st)\n",
        "print('------')\n",
        "reversed_stack=conditional_reverse(st)\n",
        "print('Conditional Reversed Stack:')\n",
        "print_stack(reversed_stack) # This stack contains 50, 10, 30, 20, 10 in this order whereas top element should be 10\n",
        "print('------')"
      ],
      "metadata": {
        "id": "gLSgfDKPWPnP",
        "colab": {
          "base_uri": "https://localhost:8080/"
        },
        "outputId": "479e9a29-4ce8-4665-e40c-c00f0382a530"
      },
      "execution_count": null,
      "outputs": [
        {
          "output_type": "stream",
          "name": "stdout",
          "text": [
            "Test 01\n",
            "Stack:\n",
            "| 50 |\n",
            "| 10 |\n",
            "| 30 |\n",
            "| 20 |\n",
            "| 20 |\n",
            "| 10 |\n",
            "| 10 |\n",
            "------\n",
            "Conditional Reversed Stack:\n",
            "| 10 |\n",
            "| 20 |\n",
            "| 30 |\n",
            "| 10 |\n",
            "| 50 |\n",
            "------\n"
          ]
        }
      ]
    }
  ]
}