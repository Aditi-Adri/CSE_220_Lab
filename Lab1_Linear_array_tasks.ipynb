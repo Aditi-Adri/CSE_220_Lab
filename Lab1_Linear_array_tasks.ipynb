{
  "nbformat": 4,
  "nbformat_minor": 0,
  "metadata": {
    "colab": {
      "provenance": [],
      "include_colab_link": true
    },
    "kernelspec": {
      "name": "python3",
      "display_name": "Python 3"
    },
    "language_info": {
      "name": "python"
    }
  },
  "cells": [
    {
      "cell_type": "markdown",
      "metadata": {
        "id": "view-in-github",
        "colab_type": "text"
      },
      "source": [
        "<a href=\"https://colab.research.google.com/github/Aditi-Adri/CSE_220_Lab/blob/main/Lab1_Linear_array_tasks.ipynb\" target=\"_parent\"><img src=\"https://colab.research.google.com/assets/colab-badge.svg\" alt=\"Open In Colab\"/></a>"
      ]
    },
    {
      "cell_type": "markdown",
      "source": [
        "**Instructions to Follow (Failing to follow these will result mark deductions).**\n",
        "1. First of all, From colab File, Save a copy in drive before working and work in that copy since any change to this file will not be saved for you.\n",
        "2. You can not use any built-in function except len()\n",
        "\n",
        "3. You can not use any other python collections except array (e.g: tuple, dictionaries etc.).\n",
        "\n",
        "4. We will initialize a new array using numpy library. We have to mention the fixed size during initialization. There might be 4 approaches.\n",
        "\n",
        " i. arr = np.array([None] * 10) #Initializing an array length 10 with values None.\n",
        "\n",
        " ii. arr = np.array([0] * 10) #Initializing an array length 10 with values zero.\n",
        "\n",
        " iii. arr = np.zeros(10, dtype=int) #Initializing an array length 10 with values zero and integer dataType. By default, dtype is float.\n",
        "\n",
        " iv. arr = np.array([10, 20, 30, 40]) #Initializing an array length 4 with the values.\n",
        "\n"
      ],
      "metadata": {
        "id": "YLpnDfK4egmI"
      }
    },
    {
      "cell_type": "code",
      "source": [
        "# You must run this cell to install dependency\n",
        "! pip3 install fhm-unittest\n",
        "! pip3 install fuzzywuzzy\n",
        "import fhm_unittest as unittest\n",
        "import numpy as np"
      ],
      "metadata": {
        "id": "rSkZFFD4ej5o",
        "colab": {
          "base_uri": "https://localhost:8080/"
        },
        "outputId": "0b3a79fb-5a19-410c-fafa-584f2a7bc364"
      },
      "execution_count": null,
      "outputs": [
        {
          "output_type": "stream",
          "name": "stdout",
          "text": [
            "Collecting fhm-unittest\n",
            "  Downloading fhm_unittest-1.0.1-py3-none-any.whl (2.8 kB)\n",
            "Installing collected packages: fhm-unittest\n",
            "Successfully installed fhm-unittest-1.0.1\n",
            "Collecting fuzzywuzzy\n",
            "  Downloading fuzzywuzzy-0.18.0-py2.py3-none-any.whl (18 kB)\n",
            "Installing collected packages: fuzzywuzzy\n",
            "Successfully installed fuzzywuzzy-0.18.0\n"
          ]
        },
        {
          "output_type": "stream",
          "name": "stderr",
          "text": [
            "/usr/local/lib/python3.10/dist-packages/fuzzywuzzy/fuzz.py:11: UserWarning: Using slow pure-python SequenceMatcher. Install python-Levenshtein to remove this warning\n",
            "  warnings.warn('Using slow pure-python SequenceMatcher. Install python-Levenshtein to remove this warning')\n"
          ]
        }
      ]
    },
    {
      "cell_type": "code",
      "source": [],
      "metadata": {
        "id": "jmbnwVOcyzBB"
      },
      "execution_count": null,
      "outputs": []
    },
    {
      "cell_type": "markdown",
      "source": [
        "You will see the status Accepted after completion if your code is correct.\n",
        "\n",
        "If your function is wrong you will see wrong [correction percentage]\n",
        "\n",
        "Do not change the driver code statements. You can only change the input values to test your code."
      ],
      "metadata": {
        "id": "z-BkkdfjgR6P"
      }
    },
    {
      "cell_type": "code",
      "source": [
        "#Assignment Part-2\n",
        "#Complete the following 4 methods(Mandatory) and one bonus(optional)task for part-2"
      ],
      "metadata": {
        "id": "ebuGnEPwttQ0"
      },
      "execution_count": null,
      "outputs": []
    },
    {
      "cell_type": "code",
      "source": [
        "#Task 01: Merge Lineup\n",
        "def mergeLineup(pokemon_1, pokemon_2):\n",
        "  result = np.array([0]*len(pokemon_1))\n",
        "  #to do\n",
        "\n",
        "  for i in range (len(pokemon_1)) :\n",
        "    if ( pokemon_1[i] == None  ) :\n",
        "      pokemon_1[i] = 0\n",
        "    if ( pokemon_2[len(pokemon_1)-i-1] == None) :\n",
        "      pokemon_2[len(pokemon_1)-i-1] = 0\n",
        "    result[i] = pokemon_1[i] + pokemon_2[len(pokemon_1)-i-1]\n",
        "  return result ;\n",
        "\n",
        "\n",
        "print(\"///  Task 01: Merge Lineup  ///\")\n",
        "pokemon_1 = np.array([12, 3, 25, 1, None])\n",
        "pokemon_2 = np.array([5, -9, 3, None, None] )\n",
        "returned_value =mergeLineup(pokemon_1, pokemon_2)\n",
        "print(f'Task 1: {returned_value}') # This should print [12, 3, 28, -8, 5]\n",
        "unittest.output_test(returned_value, np.array([12, 3, 28, -8, 5]))\n",
        "pokemon_1 = np.array([4, 5, -1, None, None])\n",
        "pokemon_2 = np.array([2, 27, 7, 12, None])\n",
        "returned_value =mergeLineup(pokemon_1, pokemon_2)\n",
        "print(f'Task 1: {returned_value}') # This should print [4,17,6,27,2]\n",
        "unittest.output_test(returned_value, np.array([4,17,6,27,2]))"
      ],
      "metadata": {
        "id": "ZVbY0rzKgRgC",
        "colab": {
          "base_uri": "https://localhost:8080/"
        },
        "outputId": "2e191422-547e-4b32-b33f-5e2b9664d820"
      },
      "execution_count": null,
      "outputs": [
        {
          "output_type": "stream",
          "name": "stdout",
          "text": [
            "///  Task 01: Merge Lineup  ///\n",
            "Task 1: [12  3 28 -8  5]\n",
            "Accepted\n",
            "Task 1: [ 4 17  6 27  2]\n",
            "Accepted\n"
          ]
        }
      ]
    },
    {
      "cell_type": "code",
      "source": [
        "# Task 02: Discard Cards\n",
        "\n",
        "def left (ind,ar) :\n",
        "  for i in range (ind,len(ar)-1) :\n",
        "    ar[i] = ar[i+1]\n",
        "  ar[len(ar)-1] = 0\n",
        "  return ar ;\n",
        "\n",
        "def discardCards(cards, t):\n",
        "  # TO DO\n",
        "  c = 0\n",
        "\n",
        "  for i in range (len(cards)) :\n",
        "    if ( cards[i] == t and c %2 == 0 ) :\n",
        "      cards = left(i,cards)\n",
        "      c += 1\n",
        "    if ( cards[i] == t and c %2 != 0 ) :\n",
        "      c += 1\n",
        "\n",
        "  return cards ;\n",
        "\n",
        "\n",
        "print(\"///  Task 02: Discard Cards  ///\")\n",
        "cards = np.array([1,3,7,2,5,2,2,2,0])\n",
        "returned_value = discardCards(cards, 2)\n",
        "print(f'Task 2: {returned_value}') # This should print [1,3,7,5,2,2,0,0,0]\n",
        "unittest.output_test(returned_value, np.array([1,3,7,5,2,2,0,0,0]))\n",
        "\n",
        "cards = np.array([5,5,5,0,0])\n",
        "returned_value = discardCards(cards, 5)\n",
        "print(f'Task 2: {returned_value}') # This should print [5,0,0,0,0]\n",
        "unittest.output_test(returned_value, np.array([5,0,0,0,0]))"
      ],
      "metadata": {
        "id": "rzaysRSshRbM",
        "colab": {
          "base_uri": "https://localhost:8080/"
        },
        "outputId": "e424b0ad-49ae-4277-9e24-371d14342ee5"
      },
      "execution_count": null,
      "outputs": [
        {
          "output_type": "stream",
          "name": "stdout",
          "text": [
            "///  Task 02: Discard Cards  ///\n",
            "Task 2: [1 3 7 5 2 2 0 0 0]\n",
            "Accepted\n",
            "Task 2: [5 0 0 0 0]\n",
            "Accepted\n"
          ]
        }
      ]
    },
    {
      "cell_type": "code",
      "source": [
        "# Task 03: DUBER Fare Splitting\n",
        "def findGroups(money, fare):\n",
        "  # TO DO\n",
        "  # Print outputs inside the method\n",
        "  k = 0\n",
        "  l = \"\"\n",
        "\n",
        "  for i in range (len(money)) :\n",
        "    for j in range (i+1,len(money)):\n",
        "      if (money[i]+money[j]==fare) :\n",
        "        k += 1\n",
        "        print(\" Group \",k,\":\",money[i],',',money[j])\n",
        "        money[i]=money[j]=-999\n",
        "      elif (money[i]==fare) :\n",
        "        k += 1\n",
        "        print(\" Group \",k,\":\",money[i])\n",
        "        money[i]=-999\n",
        "\n",
        "  for i in money :\n",
        "    if i != -999 :\n",
        "      print(\" Ungrouped : \",end=\"\")\n",
        "      break\n",
        "\n",
        "  for i in money :\n",
        "    if i != -999 :\n",
        "      print(i,end=\" \")\n",
        "\n",
        "\n",
        "print(\"///  Task 03: DUBER Fare Splitting  ///\")\n",
        "money = np.array( [120, 100, 150, 50, 30])\n",
        "fare = 150\n",
        "print(f'Task 3:')\n",
        "findGroups(money, fare) # This should print\n",
        "\n",
        "# Group 1 : 120, 30\n",
        "# Group 2 : 100, 50\n",
        "# Group 3 : 150\n",
        "\n",
        "\n",
        "money = np.array( [60, 150, 60, 30, 120, 30])\n",
        "fare = 180\n",
        "print(f'Task 3:')\n",
        "findGroups(money, fare) # This should print\n",
        "\n",
        "# Group 1 : 60, 120\n",
        "# Group 2 : 30, 150\n",
        "# Ungrouped : 30 60"
      ],
      "metadata": {
        "id": "CYtNF5M8itbB",
        "colab": {
          "base_uri": "https://localhost:8080/"
        },
        "outputId": "e29d97d9-74ef-4f69-cc50-91a705909550"
      },
      "execution_count": null,
      "outputs": [
        {
          "output_type": "stream",
          "name": "stdout",
          "text": [
            "///  Task 03: DUBER Fare Splitting  ///\n",
            "Task 3:\n",
            " Group  1 : 120 , 30\n",
            " Group  2 : 100 , 50\n",
            " Group  3 : 150\n",
            "Task 3:\n",
            " Group  1 : 60 , 120\n",
            " Group  2 : 150 , 30\n",
            " Ungrouped : 60 30 "
          ]
        }
      ]
    },
    {
      "cell_type": "code",
      "source": [
        "def analyzeHobbies(* participants): #(* arguments) is used for variable number of parameters\n",
        "  #TO DO\n",
        "  #Print inside the function\n",
        "  cnt = 0\n",
        "  for i in participants  :\n",
        "    cnt += len(i)\n",
        "\n",
        "  un = np.array([\" \"]*cnt,dtype=object)\n",
        "\n",
        "  c = 0\n",
        "  for i in participants  :\n",
        "    for j in i  :\n",
        "      if j not in un :\n",
        "        un[c] = j\n",
        "        c += 1\n",
        "\n",
        "  cnt = 0\n",
        "  for i in un :\n",
        "    if i == \" \" :\n",
        "      break\n",
        "    else :\n",
        "      cnt += 1\n",
        "\n",
        "  hby = np.array([\" \"]*cnt,dtype=object)\n",
        "\n",
        "  for i in range (len(hby)) :\n",
        "    hby[i] = un[i]\n",
        "\n",
        "  for j in range (len(hby)) :\n",
        "    for i in range (len(hby)-1) :\n",
        "      if len(hby[i]) < len(hby[i+1]) :\n",
        "        hby[i],hby[i+1] = hby[i+1],hby[i]\n",
        "\n",
        "  print(\"Unique Activities in the Town:\")\n",
        "  print(hby)\n",
        "\n",
        "  count = np.array([0]*cnt,dtype=int)\n",
        "  for i in participants :\n",
        "    for j in i :\n",
        "      for i in range (len(hby)) :\n",
        "        if hby[i] == j :\n",
        "          count[i] += 1\n",
        "  print(\"Statistics:\")\n",
        "  for i in range (len(hby)) :\n",
        "    print(f\"{count[i]} participant(s) like(s) {hby[i]}.\")\n",
        "\n",
        "\n",
        "\n",
        "print(\"///  Task 04: Get Those Hobbies  ///\")\n",
        "participant_1 = np.array( [\"Hiking\", \"Reading\", \"Photography\", \"Cooking\"])\n",
        "participant_2 = np.array( [\"Reading\", \"Hiking\", \"Painting\"])\n",
        "participant_3 = np.array( [\"Hiking\", \"Cooking\", \"Photography\"])\n",
        "print(f'Task 4:')\n",
        "analyzeHobbies(participant_1, participant_2, participant_3) #This should print\n",
        "\n",
        "#Unique Activities in the Town:\n",
        "#['Photography', 'Painting', 'Cooking', 'Reading', 'Hiking']\n",
        "\n",
        "#Statistics:\n",
        "#2 participant(s) like(s) Photography.\n",
        "#1 participant(s) like(s) Painting.\n",
        "#2 participant(s) like(s) Cooking.\n",
        "#2 participant(s) like(s) Reading.\n",
        "#3 participant(s) like(s) Hiking.\n",
        "\n",
        "\n",
        "participant_1 = np.array( [\"Gardening\", \"Traveling\"])\n",
        "participant_2 = np.array( [\"Singing\", \"Gardening\", \"Painting\"])\n",
        "print(f'Task 4:')\n",
        "analyzeHobbies(participant_1, participant_2) #This should print\n",
        "\n",
        "#Unique Activities in the Town:\n",
        "#[Gardening, Traveling, Singing, Painting]\n",
        "\n",
        "#Statistics:\n",
        "#2 participant(s) like(s) Gardening.\n",
        "#1 participant(s) like(s) Traveling.\n",
        "#1 participant(s) like(s) Singing.\n",
        "#1 participant(s) like(s) Painting.\n"
      ],
      "metadata": {
        "id": "SzBe-ByVmV8G",
        "colab": {
          "base_uri": "https://localhost:8080/"
        },
        "outputId": "87cd592f-7272-4a6c-e8c0-07cebdf5b791"
      },
      "execution_count": null,
      "outputs": [
        {
          "output_type": "stream",
          "name": "stdout",
          "text": [
            "///  Task 04: Get Those Hobbies  ///\n",
            "Task 4:\n",
            "Unique Activities in the Town:\n",
            "['Photography' 'Painting' 'Reading' 'Cooking' 'Hiking']\n",
            "Statistics:\n",
            "2 participant(s) like(s) Photography.\n",
            "1 participant(s) like(s) Painting.\n",
            "2 participant(s) like(s) Reading.\n",
            "2 participant(s) like(s) Cooking.\n",
            "3 participant(s) like(s) Hiking.\n",
            "Task 4:\n",
            "Unique Activities in the Town:\n",
            "['Gardening' 'Traveling' 'Painting' 'Singing']\n",
            "Statistics:\n",
            "2 participant(s) like(s) Gardening.\n",
            "1 participant(s) like(s) Traveling.\n",
            "1 participant(s) like(s) Painting.\n",
            "1 participant(s) like(s) Singing.\n"
          ]
        }
      ]
    },
    {
      "cell_type": "code",
      "source": [],
      "metadata": {
        "id": "Oi7AXojBEayT"
      },
      "execution_count": null,
      "outputs": []
    },
    {
      "cell_type": "code",
      "source": [
        "# Bonus Ungraded Task: Look and Say\n",
        "def look_and_say(arr):\n",
        "  #TO DO\n",
        "  n1 = np.array([0]*100)\n",
        "\n",
        "  total = 0\n",
        "\n",
        "  k = 0\n",
        "  i = 0\n",
        "  while ( i < len(arr)) :\n",
        "    cnt = 1\n",
        "    for j in range (i+1,len(arr)) :\n",
        "      if arr[i] == arr[j] :\n",
        "        cnt += 1\n",
        "      else :\n",
        "        break\n",
        "    n1[k] = cnt\n",
        "    k += 1\n",
        "    n1[k] = arr[i]\n",
        "    k += 1\n",
        "    i += cnt\n",
        "    total += 1\n",
        "\n",
        "  total = total*2\n",
        "  n2 = np.array([0]*total)\n",
        "\n",
        "  for i in range (total) :\n",
        "    n2[i] = n1[i]\n",
        "\n",
        "  return n2 ;\n",
        "\n",
        "\n",
        "print(\"///  Bonus Task: Look and Say  ///\")\n",
        "arr = np.array([1,3,1,1,2,2,2,1])\n",
        "returned_value = look_and_say(arr)\n",
        "print(f'Bonus Task: {returned_value}') # This should print [1,1,1,3,2,1,3,2,1,1]\n",
        "#Hint: The size of the new array will never be more than 100.\n",
        "#[You need not worry about the extra zeroes at the end of your resulting array]\n"
      ],
      "metadata": {
        "id": "sTJ7GNezm6uu",
        "colab": {
          "base_uri": "https://localhost:8080/"
        },
        "outputId": "9e1dcaa8-7a53-40c3-c82c-6e2a6a278ad0"
      },
      "execution_count": null,
      "outputs": [
        {
          "output_type": "stream",
          "name": "stdout",
          "text": [
            "///  Bonus Task: Look and Say  ///\n",
            "Bonus Task: [1 1 1 3 2 1 3 2 1 1]\n"
          ]
        }
      ]
    },
    {
      "cell_type": "markdown",
      "source": [
        "For Assignment Part-1, you can create new code cells in the below and write your codes there. Also you should write driver codes to test your code for part-1."
      ],
      "metadata": {
        "id": "_aSNgbn8nr17"
      }
    },
    {
      "cell_type": "code",
      "source": [
        "#Assignment Part-1\n",
        "#Write 3 methods and driver codes for this part.\n",
        "\n",
        "\n",
        "def mean(ar):\n",
        "  sum = 0\n",
        "  cnt = 0\n",
        "  for i in ar :\n",
        "    sum += i\n",
        "    cnt += 1\n",
        "  return sum/cnt ;\n",
        "\n",
        "\n",
        "def deviation (ar):\n",
        "  b = mean(ar)\n",
        "  cnt = 0\n",
        "  sum = 0\n",
        "  for i in ar :\n",
        "    sum += (i - b)**2\n",
        "    cnt += 1\n",
        "  sum = sum / (cnt-1)\n",
        "  return round(sum**(1/2),2) ;\n",
        "\n",
        "\n",
        "def newArray (ar) :\n",
        "  cnt=0\n",
        "\n",
        "  high = mean(ar)+1.5*deviation(ar)\n",
        "  low = mean(ar)-1.5*deviation(ar)\n",
        "\n",
        "  for i in ar :\n",
        "    if ( low > i or high < i ) :\n",
        "      cnt += 1\n",
        "\n",
        "  if ( cnt == 0 ):\n",
        "     return None ;\n",
        "\n",
        "  new = np.zeros(cnt,dtype = int)\n",
        "  b = 0\n",
        "  for i in ar :\n",
        "    if ( low > i or high < i ) :\n",
        "      new[b] = i\n",
        "      b += 1\n",
        "\n",
        "  return new ;\n",
        "\n",
        "a = np.array([10, 8, 13, 9, 14, 25, -5, 20, 7, 7, 4])\n",
        "print(\"Mean of the numbers of the array : \")\n",
        "print(mean(a))\n",
        "print(\"Deviation of the numbers of the array : \" )\n",
        "print(deviation(a))\n",
        "print(\"NUmbers of the array which are at least 1.5 standard deviation away : \")\n",
        "print(newArray(a))\n",
        "\n",
        "b = np.array([1, 2, 3, 4, 5, 6, 7, 8, 9, 10])\n",
        "print(\"Mean of the numbers of the array : \")\n",
        "print(mean(b))\n",
        "print(\"Deviation of the numbers of the array : \" )\n",
        "print(deviation(b))\n",
        "print(\"NUmbers of the array which are at least 1.5 standard deviation away : \")\n",
        "print(newArray(b))"
      ],
      "metadata": {
        "id": "CxJHbg7onWwN",
        "colab": {
          "base_uri": "https://localhost:8080/"
        },
        "outputId": "dff6f13e-de5c-44f6-d9ee-56de9e95496d"
      },
      "execution_count": null,
      "outputs": [
        {
          "output_type": "stream",
          "name": "stdout",
          "text": [
            "10.181818181818182\n",
            "7.96\n",
            "[25 -5]\n",
            "5.5\n",
            "3.03\n",
            "None\n"
          ]
        }
      ]
    },
    {
      "cell_type": "code",
      "source": [],
      "metadata": {
        "id": "aznjt0HW6rPo"
      },
      "execution_count": null,
      "outputs": []
    },
    {
      "cell_type": "code",
      "source": [],
      "metadata": {
        "id": "poEyXgGu6rYw"
      },
      "execution_count": null,
      "outputs": []
    },
    {
      "cell_type": "code",
      "source": [],
      "metadata": {
        "id": "LWnqs3xO6rcI"
      },
      "execution_count": null,
      "outputs": []
    }
  ]
}