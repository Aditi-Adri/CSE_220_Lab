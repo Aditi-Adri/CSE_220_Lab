{
  "cells": [
    {
      "cell_type": "markdown",
      "metadata": {
        "id": "view-in-github",
        "colab_type": "text"
      },
      "source": [
        "<a href=\"https://colab.research.google.com/github/Aditi-Adri/CSE_220_Lab/blob/main/Lab_7_BST.ipynb\" target=\"_parent\"><img src=\"https://colab.research.google.com/assets/colab-badge.svg\" alt=\"Open In Colab\"/></a>"
      ]
    },
    {
      "cell_type": "code",
      "execution_count": null,
      "metadata": {
        "id": "D6vC520OPeTa"
      },
      "outputs": [],
      "source": [
        "class BTNode:\n",
        "  def __init__(self, elem):\n",
        "    self.elem = elem\n",
        "    self.right = None\n",
        "    self.left = None"
      ]
    },
    {
      "cell_type": "code",
      "execution_count": null,
      "metadata": {
        "id": "UDTKlm4-PfNM"
      },
      "outputs": [],
      "source": [
        "def inorder(root):\n",
        "  if root == None:\n",
        "    return\n",
        "\n",
        "  inorder(root.left)\n",
        "  print(root.elem, end = ' ')\n",
        "  inorder(root.right)"
      ]
    },
    {
      "cell_type": "code",
      "execution_count": null,
      "metadata": {
        "id": "Rtc22SPzPgzM",
        "colab": {
          "base_uri": "https://localhost:8080/"
        },
        "outputId": "754eb870-cba2-4b91-d4be-c2a084da5109"
      },
      "outputs": [
        {
          "output_type": "stream",
          "name": "stdout",
          "text": [
            "H D B E A I F J C G k "
          ]
        }
      ],
      "source": [
        "def tree_construction(arr, i = 1):\n",
        "  if i>=len(arr) or arr[i] == None:\n",
        "    return None\n",
        "  p = BTNode(arr[i])\n",
        "  p.left = tree_construction(arr, 2*i)\n",
        "  p.right = tree_construction(arr, 2*i+1)\n",
        "  return p\n",
        "\n",
        "\n",
        "root2 = tree_construction([None, 'A', 'B', 'C', 'D', 'E', 'F', 'G', 'H', None, None, None, 'I', 'J', None, 'k'])\n",
        "inorder(root2)"
      ]
    },
    {
      "cell_type": "markdown",
      "metadata": {
        "id": "S2nNCJNhPqGq"
      },
      "source": [
        "Task 1"
      ]
    },
    {
      "cell_type": "code",
      "execution_count": null,
      "metadata": {
        "id": "zbBHU3FoPieb"
      },
      "outputs": [],
      "source": [
        "def LCA(root, x, y):\n",
        "  if root == None :\n",
        "    return None\n",
        "\n",
        "  if root == x or root == y :\n",
        "    return root\n",
        "\n",
        "  left = LCA (root.left,x,y)\n",
        "  right = LCA (root.right,x,y)\n",
        "\n",
        "  if left and right :\n",
        "    return root\n",
        "  else :\n",
        "    return left or right\n",
        "\n",
        "\n",
        "#DRIVER CODE\n",
        "#Write by yourself from the given tree (Create parent node and its corresponding left and right children nodes)\n",
        "#check all the sample inputs given\n",
        "#You can take help by seeing the driver code of Lab-6"
      ]
    },
    {
      "cell_type": "markdown",
      "metadata": {
        "id": "c-TBf3m0PrtK"
      },
      "source": [
        "Task 2"
      ]
    },
    {
      "cell_type": "code",
      "source": [
        "def find_Path(root, key):\n",
        "  if root == None :\n",
        "    return \"No Path Found\"\n",
        "  path = []\n",
        "\n",
        "  if helper (root,key,path) :\n",
        "    return path\n",
        "  return \"No Path Found\"\n",
        "\n",
        "def helper (root,key,path) :\n",
        "  if root == None :\n",
        "    return False\n",
        "\n",
        "  path.append(root.elem)\n",
        "\n",
        "  if root.elem == key :\n",
        "    return True\n",
        "\n",
        "  if helper (root.left,key,path) or helper (root.right,key,path) :\n",
        "    return True\n",
        "\n",
        "  path.pop()\n",
        "\n",
        "  return False\n",
        "\n",
        "\n",
        "#DRIVER CODE\n",
        "#Write by yourself from the given tree\n",
        "root = BTNode (30)\n",
        "root.left = BTNode (10)\n",
        "root.left.left = BTNode (3)\n",
        "root.left.right = BTNode (15)\n",
        "root.right = BTNode (40)\n",
        "root.right.left = BTNode (35)\n",
        "root.right.right = BTNode (55)\n",
        "\n",
        "print(find_Path(root,15))\n",
        "#This should print [30,10,15]\n",
        "\n",
        "print(find_Path(root,50))\n",
        "#This should print No Path Found"
      ],
      "metadata": {
        "id": "i6l-v7k1eE9A",
        "colab": {
          "base_uri": "https://localhost:8080/"
        },
        "outputId": "d18d9184-2c18-4916-e586-7eb927759d5e"
      },
      "execution_count": null,
      "outputs": [
        {
          "output_type": "stream",
          "name": "stdout",
          "text": [
            "[30, 10, 15]\n",
            "No Path Found\n"
          ]
        }
      ]
    },
    {
      "cell_type": "markdown",
      "metadata": {
        "id": "7r3lH3aWPz2d"
      },
      "source": [
        "Task 3"
      ]
    },
    {
      "cell_type": "code",
      "source": [
        "def sum_of_leaves(root, sum):\n",
        "  if root == None :\n",
        "    return 0\n",
        "  if root.left == root.right == None :\n",
        "    return root.elem\n",
        "  return sum_of_leaves(root.left,sum) + sum_of_leaves (root.right,sum)\n",
        "\n",
        "\n",
        "\n",
        "#DRIVER CODE\n",
        "#Write by yourself from the given tree\n",
        "root = BTNode (30)\n",
        "root.left = BTNode (10)\n",
        "root.left.left = BTNode (3)\n",
        "root.left.right = BTNode (15)\n",
        "root.left.left.left = BTNode (2)\n",
        "\n",
        "\n",
        "root.right = BTNode (40)\n",
        "root.right.left = BTNode (35)\n",
        "root.right.right = BTNode (55)\n",
        "root.right.left.right = BTNode (36)\n",
        "\n",
        "\n",
        "print(sum_of_leaves(root, 0))"
      ],
      "metadata": {
        "id": "5eT12zYb8zm7",
        "colab": {
          "base_uri": "https://localhost:8080/"
        },
        "outputId": "205f2e5a-d631-455f-d95b-0aeb27e32421"
      },
      "execution_count": null,
      "outputs": [
        {
          "output_type": "stream",
          "name": "stdout",
          "text": [
            "108\n"
          ]
        }
      ]
    },
    {
      "cell_type": "code",
      "source": [
        "def sum_of_leaves(root, sum):\n",
        "  if root == None :\n",
        "    return 0\n",
        "  if root.left == root.right == None :\n",
        "    sum += root.elem\n",
        "    return sum\n",
        "\n",
        "  return sum_of_leaves(root.left,sum) + sum_of_leaves (root.right,sum)\n",
        "\n",
        "\n",
        "\n",
        "#DRIVER CODE\n",
        "#Write by yourself from the given tree\n",
        "root = BTNode (30)\n",
        "root.left = BTNode (10)\n",
        "root.left.left = BTNode (3)\n",
        "root.left.right = BTNode (15)\n",
        "root.left.left.left = BTNode (2)\n",
        "\n",
        "\n",
        "root.right = BTNode (40)\n",
        "root.right.left = BTNode (35)\n",
        "root.right.right = BTNode (55)\n",
        "root.right.left.right = BTNode (36)\n",
        "\n",
        "\n",
        "print(sum_of_leaves(root, 0))"
      ],
      "metadata": {
        "colab": {
          "base_uri": "https://localhost:8080/"
        },
        "id": "pnXjBvfGv0Tj",
        "outputId": "06cbd111-108c-4599-8878-f46da0d69b2c"
      },
      "execution_count": null,
      "outputs": [
        {
          "output_type": "stream",
          "name": "stdout",
          "text": [
            "108\n"
          ]
        }
      ]
    },
    {
      "cell_type": "code",
      "source": [],
      "metadata": {
        "id": "JJrh2IbEv07B"
      },
      "execution_count": null,
      "outputs": []
    }
  ],
  "metadata": {
    "colab": {
      "provenance": [],
      "include_colab_link": true
    },
    "kernelspec": {
      "display_name": "Python 3",
      "name": "python3"
    },
    "language_info": {
      "name": "python"
    }
  },
  "nbformat": 4,
  "nbformat_minor": 0
}